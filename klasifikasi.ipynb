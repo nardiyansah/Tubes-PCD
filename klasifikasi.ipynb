{
 "cells": [
  {
   "cell_type": "code",
   "execution_count": 76,
   "metadata": {},
   "outputs": [],
   "source": [
    "import csv\n",
    "import pandas as pd\n",
    "import numpy as np\n",
    "from sklearn import preprocessing\n",
    "from sklearn.neighbors import KNeighborsClassifier\n",
    "from sklearn.preprocessing import Normalizer"
   ]
  },
  {
   "cell_type": "code",
   "execution_count": 77,
   "metadata": {},
   "outputs": [],
   "source": [
    "# baca data csv , simpan ke bentuk list\n",
    "with open(\"Fitur/area.csv\") as f:\n",
    "    reader = csv.reader(f)\n",
    "    # fungsi list() untuk mengubah ke bentuk list()\n",
    "    area = list(reader)[0]\n",
    "    \n",
    "with open(\"Fitur/eccentricity.csv\") as f:\n",
    "    reader = csv.reader(f)\n",
    "    eccentricity = list(reader)[0]\n",
    "\n",
    "with open(\"Fitur/perimeter.csv\") as f:\n",
    "    reader = csv.reader(f)\n",
    "    perimeter = list(reader)[0]\n",
    "    \n",
    "with open(\"Fitur/metric.csv\") as f:\n",
    "    reader = csv.reader(f)\n",
    "    metric = list(reader)[0]\n",
    "    \n",
    "with open(\"Fitur/green.csv\") as f:\n",
    "    reader = csv.reader(f)\n",
    "    green = list(reader)[0]\n",
    "    \n",
    "with open(\"Fitur/label.csv\") as f:\n",
    "    reader = csv.reader(f)\n",
    "    label = list(reader)[0]\n",
    "    \n",
    "# ganti label dalam bentuk string\n",
    "idx = 0\n",
    "for i in label:\n",
    "    if i == \"1\":\n",
    "        label[idx] = \"Cocor Bebek\"\n",
    "    elif i == \"2\":\n",
    "        label[idx] = \"Jambu\"\n",
    "    elif i == \"3\":\n",
    "        label[idx] = \"Kacang Panjang\"\n",
    "    elif i == \"4\":\n",
    "        label[idx] = \"Singkong\"\n",
    "    elif i == \"5\":\n",
    "        label[idx] = \"Tomat\"\n",
    "        \n",
    "    idx = idx+1"
   ]
  },
  {
   "cell_type": "code",
   "execution_count": 79,
   "metadata": {},
   "outputs": [],
   "source": [
    "import pandas as pd\n",
    "# fungsi map() untuk mengubah tipe data semua element dalam list\n",
    "# fungsi zip() untuk menggandengkan setiap list menjadi matriks\n",
    "df = pd.DataFrame(list(zip(list(map(int,area)), list(map(float,eccentricity)), list(map(float,perimeter)), list(map(float,metric)), list(map(float,green)), label)), columns = ['Area', 'Eccentricity', 'Perimeter', 'Metric', 'Green', 'Label'])"
   ]
  },
  {
   "cell_type": "code",
   "execution_count": 87,
   "metadata": {},
   "outputs": [
    {
     "output_type": "execute_result",
     "data": {
      "text/plain": [
       "   Area  Eccentricity  Perimeter    Metric      Green        Label\n",
       "4  3802      0.823976    447.988  0.238062  52.947575  Cocor Bebek"
      ],
      "text/html": "<div>\n<style scoped>\n    .dataframe tbody tr th:only-of-type {\n        vertical-align: middle;\n    }\n\n    .dataframe tbody tr th {\n        vertical-align: top;\n    }\n\n    .dataframe thead th {\n        text-align: right;\n    }\n</style>\n<table border=\"1\" class=\"dataframe\">\n  <thead>\n    <tr style=\"text-align: right;\">\n      <th></th>\n      <th>Area</th>\n      <th>Eccentricity</th>\n      <th>Perimeter</th>\n      <th>Metric</th>\n      <th>Green</th>\n      <th>Label</th>\n    </tr>\n  </thead>\n  <tbody>\n    <tr>\n      <th>4</th>\n      <td>3802</td>\n      <td>0.823976</td>\n      <td>447.988</td>\n      <td>0.238062</td>\n      <td>52.947575</td>\n      <td>Cocor Bebek</td>\n    </tr>\n  </tbody>\n</table>\n</div>"
     },
     "metadata": {},
     "execution_count": 87
    }
   ],
   "source": [
    "# sekedar melihat struktur tabel\n",
    "df.sample()"
   ]
  },
  {
   "cell_type": "code",
   "execution_count": 81,
   "metadata": {},
   "outputs": [],
   "source": [
    "# buat encoder\n",
    "le = preprocessing.LabelEncoder()"
   ]
  },
  {
   "cell_type": "code",
   "execution_count": 82,
   "metadata": {},
   "outputs": [],
   "source": [
    "# memisahkan data ke train dan test\n",
    "train_dataset = df.sample(frac=0.8, random_state=0)\n",
    "test_dataset = df.drop(train_dataset.index)"
   ]
  },
  {
   "cell_type": "code",
   "execution_count": 83,
   "metadata": {},
   "outputs": [],
   "source": [
    "# pisahkan feature dari label\n",
    "area_train = train_dataset['Area'].tolist()\n",
    "eccentricity_train = train_dataset['Eccentricity'].tolist()\n",
    "perimeter_train = train_dataset['Perimeter'].tolist()\n",
    "metric_train = train_dataset['Metric'].tolist()\n",
    "green_train = train_dataset['Green'].tolist()\n",
    "\n",
    "# membuat nilai numerik untuk setiap label\n",
    "label_train = le.fit_transform(train_dataset['Label'])\n",
    "\n",
    "area_test = test_dataset['Area'].tolist()\n",
    "eccentricity_test = test_dataset['Eccentricity'].tolist()\n",
    "perimeter_test = test_dataset['Perimeter'].tolist()\n",
    "metric_test = test_dataset['Metric'].tolist()\n",
    "green_test = test_dataset['Green'].tolist()\n",
    "\n",
    "label_test = le.fit_transform(test_dataset['Label'])"
   ]
  },
  {
   "cell_type": "code",
   "execution_count": 84,
   "metadata": {},
   "outputs": [],
   "source": [
    "# menyiapkan fitur data train dan testing, (menggabungkan tiap variabel fitur)\n",
    "train_features = list(zip(area_train, eccentricity_train, perimeter_train, metric_train, green_train))\n",
    "\n",
    "test_features = list(zip(area_test, eccentricity_test, perimeter_test, metric_test, green_test))"
   ]
  },
  {
   "cell_type": "code",
   "execution_count": 85,
   "metadata": {},
   "outputs": [
    {
     "output_type": "stream",
     "name": "stdout",
     "text": [
      "accuracy :  70.0\n"
     ]
    }
   ],
   "source": [
    "# buat model KNN dengan jumlah parameter tetangga = 7\n",
    "model = KNeighborsClassifier(n_neighbors=7)\n",
    "\n",
    "model.fit(train_features, label_train)\n",
    "\n",
    "acc = model.score(test_features, label_test)\n",
    "print(\"accuracy : \", acc*100)"
   ]
  },
  {
   "cell_type": "code",
   "execution_count": 88,
   "metadata": {},
   "outputs": [
    {
     "output_type": "stream",
     "name": "stdout",
     "text": [
      "prediction class : Cocor Bebek\n"
     ]
    }
   ],
   "source": [
    "# percobaan prediksi\n",
    "X_predict = [3802,\t0.823976,\t447.988,\t0.238062,\t52.947575]\n",
    "\n",
    "transformer = Normalizer().fit([X_predict])\n",
    "X_normalize = transformer.transform([X_predict])\n",
    "\n",
    "predict_class = model.predict([X_predict])\n",
    "\n",
    "if predict_class[0] == 0:\n",
    "    print(\"prediction class : Cocor Bebek\")\n",
    "elif predict_class[0] == 1:\n",
    "    print(\"prediction class : Jambu\")\n",
    "elif predict_class[0] == 2:\n",
    "    print(\"prediction class : Kacang Panjang\")\n",
    "elif predict_class[0] == 3:\n",
    "    print(\"prediction class : Singkong\")\n",
    "elif predict_class[0] == 4:\n",
    "    print(\"prediction class : Tomat\")"
   ]
  }
 ],
 "metadata": {
  "kernelspec": {
   "display_name": "Python 3",
   "language": "python",
   "name": "python3"
  },
  "language_info": {
   "codemirror_mode": {
    "name": "ipython",
    "version": 3
   },
   "file_extension": ".py",
   "mimetype": "text/x-python",
   "name": "python",
   "nbconvert_exporter": "python",
   "pygments_lexer": "ipython3",
   "version": "3.6.9-final"
  }
 },
 "nbformat": 4,
 "nbformat_minor": 4
}