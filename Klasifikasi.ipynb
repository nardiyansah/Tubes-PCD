{
 "cells": [
  {
   "cell_type": "code",
   "execution_count": 1,
   "metadata": {},
   "outputs": [],
   "source": [
    "import csv\n",
    "\n",
    "# baca data csv , simpan ke bentuk list\n",
    "with open(\"Fitur/area.csv\") as f:\n",
    "    reader = csv.reader(f)\n",
    "    # fungsi list() untuk mengubah ke bentuk list()\n",
    "    area = list(reader)[0]\n",
    "    \n",
    "with open(\"Fitur/eccentricity.csv\") as f:\n",
    "    reader = csv.reader(f)\n",
    "    eccentricity = list(reader)[0]\n",
    "\n",
    "with open(\"Fitur/perimeter.csv\") as f:\n",
    "    reader = csv.reader(f)\n",
    "    perimeter = list(reader)[0]\n",
    "    \n",
    "with open(\"Fitur/metric.csv\") as f:\n",
    "    reader = csv.reader(f)\n",
    "    metric = list(reader)[0]\n",
    "    \n",
    "with open(\"Fitur/red.csv\") as f:\n",
    "    reader = csv.reader(f)\n",
    "    red = list(reader)[0]\n",
    "    \n",
    "with open(\"Fitur/green.csv\") as f:\n",
    "    reader = csv.reader(f)\n",
    "    green = list(reader)[0]\n",
    "    \n",
    "with open(\"Fitur/blue.csv\") as f:\n",
    "    reader = csv.reader(f)\n",
    "    blue = list(reader)[0]\n",
    "\n",
    "with open(\"Fitur/blue.csv\") as f:\n",
    "    reader = csv.reader(f)\n",
    "    blue = list(reader)[0]\n",
    "    \n",
    "with open(\"Fitur/label.csv\") as f:\n",
    "    reader = csv.reader(f)\n",
    "    label = list(reader)[0]\n",
    "    \n",
    "# ganti label dalam bentuk string\n",
    "idx = 0\n",
    "for i in label:\n",
    "    if i == \"1\":\n",
    "        label[idx] = \"Cocor Bebek\"\n",
    "    elif i == \"2\":\n",
    "        label[idx] = \"Jambu\"\n",
    "    elif i == \"3\":\n",
    "        label[idx] = \"Kacang Panjang\"\n",
    "    elif i == \"4\":\n",
    "        label[idx] = \"Singkong\"\n",
    "    elif i == \"5\":\n",
    "        label[idx] = \"Tomat\"\n",
    "        \n",
    "    idx = idx+1"
   ]
  },
  {
   "cell_type": "code",
   "execution_count": 2,
   "metadata": {},
   "outputs": [],
   "source": [
    "import pandas as pd\n",
    "# fungsi map() untuk mengubah tipe data semua element dalam list\n",
    "# fungsi zip() untuk menggandengkan setiap list menjadi matriks\n",
    "df = pd.DataFrame(list(zip(list(map(int,area)), list(map(float,eccentricity)), list(map(float,perimeter)), list(map(float,metric)), list(map(float,red)), list(map(float,green)), list(map(float,blue)), label)), columns = ['Area', 'Eccentricity', 'Perimeter', 'Metric', 'Red', 'Green', 'Blue', 'Label'])"
   ]
  },
  {
   "cell_type": "code",
   "execution_count": 3,
   "metadata": {},
   "outputs": [
    {
     "data": {
      "text/html": [
       "<div>\n",
       "<style scoped>\n",
       "    .dataframe tbody tr th:only-of-type {\n",
       "        vertical-align: middle;\n",
       "    }\n",
       "\n",
       "    .dataframe tbody tr th {\n",
       "        vertical-align: top;\n",
       "    }\n",
       "\n",
       "    .dataframe thead th {\n",
       "        text-align: right;\n",
       "    }\n",
       "</style>\n",
       "<table border=\"1\" class=\"dataframe\">\n",
       "  <thead>\n",
       "    <tr style=\"text-align: right;\">\n",
       "      <th></th>\n",
       "      <th>Area</th>\n",
       "      <th>Eccentricity</th>\n",
       "      <th>Perimeter</th>\n",
       "      <th>Metric</th>\n",
       "      <th>Red</th>\n",
       "      <th>Green</th>\n",
       "      <th>Blue</th>\n",
       "      <th>Label</th>\n",
       "    </tr>\n",
       "  </thead>\n",
       "  <tbody>\n",
       "    <tr>\n",
       "      <th>95</th>\n",
       "      <td>2592</td>\n",
       "      <td>0.587480</td>\n",
       "      <td>648.558</td>\n",
       "      <td>0.077437</td>\n",
       "      <td>62.147971</td>\n",
       "      <td>98.496181</td>\n",
       "      <td>34.956567</td>\n",
       "      <td>Tomat</td>\n",
       "    </tr>\n",
       "    <tr>\n",
       "      <th>96</th>\n",
       "      <td>2034</td>\n",
       "      <td>0.744930</td>\n",
       "      <td>296.505</td>\n",
       "      <td>0.290735</td>\n",
       "      <td>48.569492</td>\n",
       "      <td>67.977778</td>\n",
       "      <td>38.859887</td>\n",
       "      <td>Tomat</td>\n",
       "    </tr>\n",
       "    <tr>\n",
       "      <th>97</th>\n",
       "      <td>1796</td>\n",
       "      <td>0.736844</td>\n",
       "      <td>262.322</td>\n",
       "      <td>0.327980</td>\n",
       "      <td>82.097821</td>\n",
       "      <td>107.617685</td>\n",
       "      <td>66.557027</td>\n",
       "      <td>Tomat</td>\n",
       "    </tr>\n",
       "    <tr>\n",
       "      <th>98</th>\n",
       "      <td>1931</td>\n",
       "      <td>0.789033</td>\n",
       "      <td>542.651</td>\n",
       "      <td>0.082404</td>\n",
       "      <td>62.952130</td>\n",
       "      <td>88.649493</td>\n",
       "      <td>54.805680</td>\n",
       "      <td>Tomat</td>\n",
       "    </tr>\n",
       "    <tr>\n",
       "      <th>99</th>\n",
       "      <td>1787</td>\n",
       "      <td>0.792165</td>\n",
       "      <td>525.614</td>\n",
       "      <td>0.081283</td>\n",
       "      <td>80.768362</td>\n",
       "      <td>111.433290</td>\n",
       "      <td>70.402434</td>\n",
       "      <td>Tomat</td>\n",
       "    </tr>\n",
       "  </tbody>\n",
       "</table>\n",
       "</div>"
      ],
      "text/plain": [
       "    Area  Eccentricity  Perimeter    Metric        Red       Green       Blue  \\\n",
       "95  2592      0.587480    648.558  0.077437  62.147971   98.496181  34.956567   \n",
       "96  2034      0.744930    296.505  0.290735  48.569492   67.977778  38.859887   \n",
       "97  1796      0.736844    262.322  0.327980  82.097821  107.617685  66.557027   \n",
       "98  1931      0.789033    542.651  0.082404  62.952130   88.649493  54.805680   \n",
       "99  1787      0.792165    525.614  0.081283  80.768362  111.433290  70.402434   \n",
       "\n",
       "    Label  \n",
       "95  Tomat  \n",
       "96  Tomat  \n",
       "97  Tomat  \n",
       "98  Tomat  \n",
       "99  Tomat  "
      ]
     },
     "execution_count": 3,
     "metadata": {},
     "output_type": "execute_result"
    }
   ],
   "source": [
    "# melihat 5 data terakhir, sekedar melihat struktur tabel\n",
    "df.tail()"
   ]
  },
  {
   "cell_type": "code",
   "execution_count": 4,
   "metadata": {},
   "outputs": [],
   "source": [
    "# memisahkan data ke train dan test\n",
    "train_dataset = df.sample(frac=0.8, random_state=0)\n",
    "test_dataset = df.drop(train_dataset.index)"
   ]
  },
  {
   "cell_type": "code",
   "execution_count": 5,
   "metadata": {},
   "outputs": [],
   "source": [
    "# memisahkan label\n",
    "train_features = train_dataset.copy()\n",
    "test_features = test_dataset.copy()\n",
    "# pd.get_dummies() untuk membuat one-hot encoding\n",
    "train_labels = pd.get_dummies(train_features.pop('Label'))\n",
    "test_labels = pd.get_dummies(test_features.pop('Label'))"
   ]
  },
  {
   "cell_type": "code",
   "execution_count": 6,
   "metadata": {},
   "outputs": [],
   "source": [
    "# membuat neural network\n",
    "import tensorflow as tf\n",
    "from tensorflow import keras\n",
    "from tensorflow.keras.wrappers.scikit_learn import KerasClassifier\n",
    "from sklearn.model_selection import cross_val_score\n",
    "from sklearn.model_selection import KFold\n",
    "from tensorflow.keras import layers\n",
    "from tensorflow.keras.layers.experimental import preprocessing\n",
    "import numpy as np\n",
    "\n",
    "# membuat normalization layer\n",
    "normalizer = preprocessing.Normalization()\n",
    "\n",
    "normalizer.adapt(np.array(train_features))"
   ]
  },
  {
   "cell_type": "code",
   "execution_count": 7,
   "metadata": {},
   "outputs": [
    {
     "name": "stdout",
     "output_type": "stream",
     "text": [
      "First example: [[3843.      0.78  846.89    0.07   41.99   85.28   22.97]]\n",
      "\n",
      "Normalized: [[ 0.88 -0.2   2.27 -1.38 -1.12  0.66 -0.62]]\n"
     ]
    }
   ],
   "source": [
    "first = np.array(train_features[:1])\n",
    "# mengecek apak normalization layer sudah berfungsi\n",
    "with np.printoptions(precision=2, suppress=True):\n",
    "    print('First example:',first)\n",
    "    print()\n",
    "    print('Normalized:', normalizer(first).numpy())"
   ]
  },
  {
   "cell_type": "code",
   "execution_count": 9,
   "metadata": {},
   "outputs": [
    {
     "name": "stdout",
     "output_type": "stream",
     "text": [
      "WARNING:tensorflow:6 out of the last 11 calls to <function Model.make_test_function.<locals>.test_function at 0x7fed686b19d8> triggered tf.function retracing. Tracing is expensive and the excessive number of tracings could be due to (1) creating @tf.function repeatedly in a loop, (2) passing tensors with different shapes, (3) passing Python objects instead of tensors. For (1), please define your @tf.function outside of the loop. For (2), @tf.function has experimental_relax_shapes=True option that relaxes argument shapes that can avoid unnecessary retracing. For (3), please refer to https://www.tensorflow.org/tutorials/customization/performance#python_or_tensor_args and https://www.tensorflow.org/api_docs/python/tf/function for  more details.\n",
      "WARNING:tensorflow:6 out of the last 11 calls to <function Model.make_test_function.<locals>.test_function at 0x7fed684fa620> triggered tf.function retracing. Tracing is expensive and the excessive number of tracings could be due to (1) creating @tf.function repeatedly in a loop, (2) passing tensors with different shapes, (3) passing Python objects instead of tensors. For (1), please define your @tf.function outside of the loop. For (2), @tf.function has experimental_relax_shapes=True option that relaxes argument shapes that can avoid unnecessary retracing. For (3), please refer to https://www.tensorflow.org/tutorials/customization/performance#python_or_tensor_args and https://www.tensorflow.org/api_docs/python/tf/function for  more details.\n",
      "WARNING:tensorflow:6 out of the last 11 calls to <function Model.make_test_function.<locals>.test_function at 0x7fed683ed268> triggered tf.function retracing. Tracing is expensive and the excessive number of tracings could be due to (1) creating @tf.function repeatedly in a loop, (2) passing tensors with different shapes, (3) passing Python objects instead of tensors. For (1), please define your @tf.function outside of the loop. For (2), @tf.function has experimental_relax_shapes=True option that relaxes argument shapes that can avoid unnecessary retracing. For (3), please refer to https://www.tensorflow.org/tutorials/customization/performance#python_or_tensor_args and https://www.tensorflow.org/api_docs/python/tf/function for  more details.\n",
      "WARNING:tensorflow:6 out of the last 11 calls to <function Model.make_test_function.<locals>.test_function at 0x7fedb8506e18> triggered tf.function retracing. Tracing is expensive and the excessive number of tracings could be due to (1) creating @tf.function repeatedly in a loop, (2) passing tensors with different shapes, (3) passing Python objects instead of tensors. For (1), please define your @tf.function outside of the loop. For (2), @tf.function has experimental_relax_shapes=True option that relaxes argument shapes that can avoid unnecessary retracing. For (3), please refer to https://www.tensorflow.org/tutorials/customization/performance#python_or_tensor_args and https://www.tensorflow.org/api_docs/python/tf/function for  more details.\n",
      "WARNING:tensorflow:6 out of the last 11 calls to <function Model.make_test_function.<locals>.test_function at 0x7fed8c630620> triggered tf.function retracing. Tracing is expensive and the excessive number of tracings could be due to (1) creating @tf.function repeatedly in a loop, (2) passing tensors with different shapes, (3) passing Python objects instead of tensors. For (1), please define your @tf.function outside of the loop. For (2), @tf.function has experimental_relax_shapes=True option that relaxes argument shapes that can avoid unnecessary retracing. For (3), please refer to https://www.tensorflow.org/tutorials/customization/performance#python_or_tensor_args and https://www.tensorflow.org/api_docs/python/tf/function for  more details.\n",
      "WARNING:tensorflow:6 out of the last 11 calls to <function Model.make_test_function.<locals>.test_function at 0x7fed8c5f1268> triggered tf.function retracing. Tracing is expensive and the excessive number of tracings could be due to (1) creating @tf.function repeatedly in a loop, (2) passing tensors with different shapes, (3) passing Python objects instead of tensors. For (1), please define your @tf.function outside of the loop. For (2), @tf.function has experimental_relax_shapes=True option that relaxes argument shapes that can avoid unnecessary retracing. For (3), please refer to https://www.tensorflow.org/tutorials/customization/performance#python_or_tensor_args and https://www.tensorflow.org/api_docs/python/tf/function for  more details.\n",
      "WARNING:tensorflow:6 out of the last 11 calls to <function Model.make_test_function.<locals>.test_function at 0x7fed8c492e18> triggered tf.function retracing. Tracing is expensive and the excessive number of tracings could be due to (1) creating @tf.function repeatedly in a loop, (2) passing tensors with different shapes, (3) passing Python objects instead of tensors. For (1), please define your @tf.function outside of the loop. For (2), @tf.function has experimental_relax_shapes=True option that relaxes argument shapes that can avoid unnecessary retracing. For (3), please refer to https://www.tensorflow.org/tutorials/customization/performance#python_or_tensor_args and https://www.tensorflow.org/api_docs/python/tf/function for  more details.\n",
      "WARNING:tensorflow:6 out of the last 11 calls to <function Model.make_test_function.<locals>.test_function at 0x7fed68724950> triggered tf.function retracing. Tracing is expensive and the excessive number of tracings could be due to (1) creating @tf.function repeatedly in a loop, (2) passing tensors with different shapes, (3) passing Python objects instead of tensors. For (1), please define your @tf.function outside of the loop. For (2), @tf.function has experimental_relax_shapes=True option that relaxes argument shapes that can avoid unnecessary retracing. For (3), please refer to https://www.tensorflow.org/tutorials/customization/performance#python_or_tensor_args and https://www.tensorflow.org/api_docs/python/tf/function for  more details.\n",
      "WARNING:tensorflow:6 out of the last 11 calls to <function Model.make_test_function.<locals>.test_function at 0x7fed8c399598> triggered tf.function retracing. Tracing is expensive and the excessive number of tracings could be due to (1) creating @tf.function repeatedly in a loop, (2) passing tensors with different shapes, (3) passing Python objects instead of tensors. For (1), please define your @tf.function outside of the loop. For (2), @tf.function has experimental_relax_shapes=True option that relaxes argument shapes that can avoid unnecessary retracing. For (3), please refer to https://www.tensorflow.org/tutorials/customization/performance#python_or_tensor_args and https://www.tensorflow.org/api_docs/python/tf/function for  more details.\n",
      "WARNING:tensorflow:6 out of the last 11 calls to <function Model.make_test_function.<locals>.test_function at 0x7fed8c5992f0> triggered tf.function retracing. Tracing is expensive and the excessive number of tracings could be due to (1) creating @tf.function repeatedly in a loop, (2) passing tensors with different shapes, (3) passing Python objects instead of tensors. For (1), please define your @tf.function outside of the loop. For (2), @tf.function has experimental_relax_shapes=True option that relaxes argument shapes that can avoid unnecessary retracing. For (3), please refer to https://www.tensorflow.org/tutorials/customization/performance#python_or_tensor_args and https://www.tensorflow.org/api_docs/python/tf/function for  more details.\n",
      "Accuracy: 81.25% (15.05%)\n"
     ]
    }
   ],
   "source": [
    "# kode ini mengikuti tutorial dari machinelearningmastery.com \n",
    "# https://machinelearningmastery.com/multi-class-classification-tutorial-keras-deep-learning-library/\n",
    "# saya coba untuk run beberapa kali, nilai accuracy dapat berubah-ubah\n",
    "def baseline_model():\n",
    "    model = keras.models.Sequential()\n",
    "    model.add(normalizer)\n",
    "    model.add(layers.Dense(14, input_dim=7, activation='relu'))\n",
    "    model.add(layers.Dense(5, activation='softmax'))\n",
    "    # compile model\n",
    "    model.compile(loss='categorical_crossentropy', optimizer='adam', metrics=['accuracy'])\n",
    "    return model\n",
    "\n",
    "estimator = KerasClassifier(build_fn=baseline_model, epochs=80, batch_size=5, verbose=0)\n",
    "kfold = KFold(n_splits=10, shuffle=True)\n",
    "results = cross_val_score(estimator, train_features, train_labels, cv=kfold)\n",
    "print(\"Accuracy: %.2f%% (%.2f%%)\" % (results.mean()*100, results.std()*100))"
   ]
  },
  {
   "cell_type": "code",
   "execution_count": null,
   "metadata": {},
   "outputs": [],
   "source": []
  }
 ],
 "metadata": {
  "kernelspec": {
   "display_name": "Python 3",
   "language": "python",
   "name": "python3"
  },
  "language_info": {
   "codemirror_mode": {
    "name": "ipython",
    "version": 3
   },
   "file_extension": ".py",
   "mimetype": "text/x-python",
   "name": "python",
   "nbconvert_exporter": "python",
   "pygments_lexer": "ipython3",
   "version": "3.6.9"
  }
 },
 "nbformat": 4,
 "nbformat_minor": 4
}
